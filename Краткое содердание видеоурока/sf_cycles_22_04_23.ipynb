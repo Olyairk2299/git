{
  "cells": [
    {
      "cell_type": "markdown",
      "metadata": {
        "id": "E1ZR1FHYMsJh"
      },
      "source": [
        "# Циклы "
      ]
    },
    {
      "cell_type": "markdown",
      "metadata": {
        "id": "8ONOFUcIEeYK"
      },
      "source": [
        "Булыгин Олег:  \n",
        "* [LinkedIn](linkedin.com/in/obulygin)  \n",
        "* [Мой канал в ТГ по Python](https://t.me/pythontalk_ru)\n",
        "* [Чат канала](https://t.me/pythontalk_chat)\n",
        "* [Блог в Телетайпе](https://teletype.in/@pythontalk)\n",
        "* [PythonTalk на Кью](https://yandex.ru/q/loves/pythontalk/)"
      ]
    },
    {
      "cell_type": "markdown",
      "metadata": {
        "id": "Vw4ia5wCEeYL"
      },
      "source": [
        "## План\n",
        "- цикл for  \n",
        "- функции range и enumerate  \n",
        "- цикл while\n",
        "- операторы break и continue\n",
        "- else с циклам\n",
        "- вложенные циклы "
      ]
    },
    {
      "cell_type": "markdown",
      "metadata": {
        "id": "TO6qJiIUPdTy"
      },
      "source": [
        "## Циклы\n",
        "Циклы позволяют организовать повторение выполнения участков кода. В Python существует два типа циклов: цикл **for** и цикл **while**.\n"
      ]
    },
    {
      "cell_type": "markdown",
      "metadata": {
        "id": "mTox4sr2MsKs"
      },
      "source": [
        "## Цикл **for**\n",
        "\n",
        "Цикл for проходится по элементам любого итерируемого объекта (строки, списка и т.д.) и во время каждого прохода выполняет заданную последовательность действий.\n",
        "\n",
        "Внутри цикла могут быть любые другие конструкции языка.\n"
      ]
    },
    {
      "cell_type": "code",
      "execution_count": null,
      "metadata": {
        "colab": {
          "base_uri": "https://localhost:8080/"
        },
        "id": "kwPNp-WzEeYT",
        "outputId": "efa6fa3c-7e65-475a-c938-0935a3df9eef"
      },
      "outputs": [
        {
          "name": "stdout",
          "output_type": "stream",
          "text": [
            "*S**K**I**L**L**F**A**C**T**O**R**Y*"
          ]
        }
      ],
      "source": [
        "# итерация по строкам\n",
        "company_name = 'SkillFactory'\n",
        "# мы сами задаем имя переменной в которую будут последовательно помещаться каждый элемент нашего объекта\n",
        "for letter in company_name: \n",
        "    print(f'*{letter.upper()}*', end='')"
      ]
    },
    {
      "cell_type": "code",
      "execution_count": null,
      "metadata": {
        "colab": {
          "base_uri": "https://localhost:8080/"
        },
        "id": "CieHOttVo5P-",
        "outputId": "7597651d-eccf-4ef3-b9e0-3f0fb2b40709"
      },
      "outputs": [
        {
          "name": "stdout",
          "output_type": "stream",
          "text": [
            "1!2\n",
            "3\n"
          ]
        }
      ],
      "source": [
        "print(1, end='!')\n",
        "print(2)\n",
        "print(3)"
      ]
    },
    {
      "cell_type": "markdown",
      "metadata": {
        "id": "MuIrVPjv4Awm"
      },
      "source": [
        "Выведем информацию о компаниях, которые харанятся во вложенных списках в виде:  \n",
        "`Company's capitalizations is ***`"
      ]
    },
    {
      "cell_type": "code",
      "execution_count": null,
      "metadata": {
        "colab": {
          "base_uri": "https://localhost:8080/"
        },
        "id": "zIIJF5BZfzo0",
        "outputId": "c4135860-6b67-4cbc-bee5-b95a83a7e1e9"
      },
      "outputs": [
        {
          "name": "stdout",
          "output_type": "stream",
          "text": [
            "['Orange', 1.3]\n",
            "['Maxisoft', 1.5]\n",
            "['Headbook', 0.8, 4363456346]\n",
            "['Nicola', 2.2]\n"
          ]
        }
      ],
      "source": [
        "companies_capitalization = [\n",
        "    ['Orange', 1.3],\n",
        "    ['Maxisoft', 1.5],\n",
        "    ['Headbook', 0.8, 4363456346],\n",
        "    ['Nicola', 2.2]\n",
        "]\n",
        "for company in companies_capitalization:\n",
        "    print(company)\n",
        "    # print(f\"{company[0]}'s capitalization is {company[1]}\")"
      ]
    },
    {
      "cell_type": "markdown",
      "metadata": {
        "id": "T6ovLfhv4G33"
      },
      "source": [
        "Мы можем распаковать элементы прямо в списке"
      ]
    },
    {
      "cell_type": "code",
      "execution_count": null,
      "metadata": {
        "colab": {
          "base_uri": "https://localhost:8080/"
        },
        "id": "z63fHl3mfzo1",
        "outputId": "70cc5bea-ece5-402a-8225-c8f2f13cf729"
      },
      "outputs": [
        {
          "name": "stdout",
          "output_type": "stream",
          "text": [
            "Orange's capitalization is 1.3\n",
            "Maxisoft's capitalization is 1.5\n",
            "Headbook's capitalization is 0.8\n",
            "Nicola's capitalization is 2.2\n"
          ]
        }
      ],
      "source": [
        "companies_capitalization = [\n",
        "    ['Orange', 1.3],\n",
        "    ['Maxisoft', 1.5],\n",
        "    ['Headbook', 0.8],\n",
        "    ['Nicola', 2.2]\n",
        "]\n",
        "for company_name, cap in companies_capitalization:\n",
        "    print(f\"{company_name}'s capitalization is {cap}\")"
      ]
    },
    {
      "cell_type": "code",
      "execution_count": null,
      "metadata": {
        "colab": {
          "base_uri": "https://localhost:8080/"
        },
        "id": "kMISxZZtqI12",
        "outputId": "5c6bf6d4-f583-492b-d68b-c1f3edabaa1d"
      },
      "outputs": [
        {
          "name": "stdout",
          "output_type": "stream",
          "text": [
            "abc\n",
            "1\n"
          ]
        }
      ],
      "source": [
        "res = ['abc', 1]\n",
        "some_str, num = res \n",
        "print(some_str)\n",
        "print(num)"
      ]
    },
    {
      "cell_type": "markdown",
      "metadata": {
        "id": "HQ_0HW2Kfzo6"
      },
      "source": [
        "Посчитаем сумму элементов по главной диагонали квадратной матрицы"
      ]
    },
    {
      "cell_type": "code",
      "execution_count": null,
      "metadata": {
        "id": "aikBFIlufzo7"
      },
      "outputs": [],
      "source": [
        "data = [\n",
        "    [13, 25, 23, 34],\n",
        "    [45, 32, 44, 47],\n",
        "    [12, 33, 23, 95],\n",
        "    [13, 53, 34, 35]\n",
        "]"
      ]
    },
    {
      "cell_type": "code",
      "execution_count": null,
      "metadata": {
        "colab": {
          "base_uri": "https://localhost:8080/"
        },
        "id": "sdSC4Nzpq8Rs",
        "outputId": "b026fa8b-b0c1-4bae-bff4-143971fceb38"
      },
      "outputs": [
        {
          "name": "stdout",
          "output_type": "stream",
          "text": [
            "[13, 25, 23, 34]\n",
            "[45, 32, 44, 47]\n",
            "[12, 33, 23, 95]\n",
            "[13, 53, 34, 35]\n",
            "103\n"
          ]
        }
      ],
      "source": [
        "sum_ = 0\n",
        "index = 0\n",
        "for row in data:\n",
        "    # print(row)\n",
        "    sum_ += row[index]\n",
        "    index += 1\n",
        "print(sum_)"
      ]
    },
    {
      "cell_type": "code",
      "execution_count": null,
      "metadata": {
        "colab": {
          "base_uri": "https://localhost:8080/"
        },
        "id": "-N9BFu3Gfzo7",
        "outputId": "12b95816-4b1f-46b8-d857-0c399b7a7a25"
      },
      "outputs": [
        {
          "name": "stdout",
          "output_type": "stream",
          "text": [
            "68\n"
          ]
        }
      ],
      "source": [
        "sum_ = 0\n",
        "index = 0\n",
        "for row in data[:-1]:\n",
        "    # print(row)\n",
        "    # print(index)\n",
        "    sum_ += row[index]\n",
        "    index += 1\n",
        "print(sum_)"
      ]
    },
    {
      "cell_type": "markdown",
      "metadata": {
        "id": "ieqdcwQHWCL3"
      },
      "source": [
        "**Практика** \n",
        "\n",
        "Внести правки в код выше, чтобы посчитать сумму элементов по обратной диагонали в матрице"
      ]
    },
    {
      "cell_type": "code",
      "execution_count": null,
      "metadata": {
        "colab": {
          "base_uri": "https://localhost:8080/"
        },
        "id": "BapICQieilYN",
        "outputId": "1327e4cd-d084-458f-df53-9594780a6f0b"
      },
      "outputs": [
        {
          "name": "stdout",
          "output_type": "stream",
          "text": [
            "124\n"
          ]
        }
      ],
      "source": [
        "sum_ = 0\n",
        "index = -1\n",
        "for row in data:\n",
        "    sum_ += row[index]\n",
        "    index -= 1\n",
        "print(sum_)"
      ]
    },
    {
      "cell_type": "code",
      "execution_count": null,
      "metadata": {
        "id": "A8OFyCKHilsq"
      },
      "outputs": [],
      "source": []
    },
    {
      "cell_type": "markdown",
      "metadata": {
        "id": "N48ikJJQApD2"
      },
      "source": [
        "Итерация по словарям. \n",
        "Выведем информацию о странах и столициах в виде:  \n",
        " `The capital of ... is ...`"
      ]
    },
    {
      "cell_type": "code",
      "execution_count": null,
      "metadata": {
        "id": "vCv-tCPrA2Gp"
      },
      "outputs": [],
      "source": [
        "europe = {'spain': {'capital': 'madrid'},\n",
        "           'france': {'capital': 'paris'},\n",
        "           'germany': {'capital': 'berlin'},\n",
        "           'norway': {'capital': 'oslo'}}"
      ]
    },
    {
      "cell_type": "code",
      "execution_count": null,
      "metadata": {
        "colab": {
          "base_uri": "https://localhost:8080/"
        },
        "id": "wWWxuvvLA7df",
        "outputId": "cf1b47ba-1fde-4e51-ab51-fdb80e41f826"
      },
      "outputs": [
        {
          "name": "stdout",
          "output_type": "stream",
          "text": [
            "The capital of SPAIN is Madrid\n",
            "The capital of FRANCE is Paris\n",
            "The capital of GERMANY is Berlin\n",
            "The capital of NORWAY is Oslo\n"
          ]
        }
      ],
      "source": [
        "for country, info in europe.items():\n",
        "    # print(country)\n",
        "    # print(info)\n",
        "    print(f'The capital of {country.title()} is {info[\"capital\"].title()}')"
      ]
    },
    {
      "cell_type": "markdown",
      "metadata": {
        "id": "JTo-w7pQfzpJ"
      },
      "source": [
        "**Практика**  \n",
        "\n",
        "Согласно сайту www.bodycounters.com в четырех частях фильма “Пираты Карибского моря” было довольно много погибших. Нужно написать код, который будет счить их общее количество. Пиратов-зомби в последней части тоже считайте живыми."
      ]
    },
    {
      "cell_type": "code",
      "execution_count": null,
      "metadata": {
        "id": "3sPAVrw_fzpJ"
      },
      "outputs": [],
      "source": [
        "bodycount = {\n",
        "    'Проклятие Черной жемчужины': {\n",
        "        'человек': 17\n",
        "    }, \n",
        "\n",
        "    'Сундук мертвеца': {\n",
        "        'человек': 56,\n",
        "        'раков-отшельников': 1\n",
        "    },\n",
        "\n",
        "    'На краю света': {\n",
        "        'человек': 88\n",
        "    },\n",
        "\n",
        "    'На странных берегах': {\n",
        "        'человек': 56,\n",
        "        'русалок': 2,\n",
        "        'ядовитых жаб': 3,\n",
        "        'пиратов зомби': 2\n",
        "    }\n",
        "}"
      ]
    },
    {
      "cell_type": "code",
      "execution_count": null,
      "metadata": {
        "colab": {
          "base_uri": "https://localhost:8080/"
        },
        "id": "IUFRStNEfzpJ",
        "outputId": "332d4317-1c98-4617-9425-2333eca2462f"
      },
      "outputs": [
        {
          "data": {
            "text/plain": [
              "225"
            ]
          },
          "execution_count": 31,
          "metadata": {},
          "output_type": "execute_result"
        }
      ],
      "source": [
        "dead = 0\n",
        "for movie, bodies in bodycount.items():\n",
        "    dead = dead + sum(bodies.values())\n",
        "\n",
        "dead"
      ]
    },
    {
      "cell_type": "code",
      "execution_count": null,
      "metadata": {
        "colab": {
          "base_uri": "https://localhost:8080/"
        },
        "id": "DjORTFTCu7-H",
        "outputId": "63ece671-ec2b-4897-dd51-7b279c78ff14"
      },
      "outputs": [
        {
          "data": {
            "text/plain": [
              "225"
            ]
          },
          "execution_count": 32,
          "metadata": {},
          "output_type": "execute_result"
        }
      ],
      "source": [
        "dead = 0\n",
        "for bodies in bodycount.values():\n",
        "    dead += sum(bodies.values())\n",
        "\n",
        "dead"
      ]
    },
    {
      "cell_type": "markdown",
      "metadata": {
        "id": "sHhdgs0DEeYY"
      },
      "source": [
        "## Функция range"
      ]
    },
    {
      "cell_type": "markdown",
      "metadata": {
        "id": "zCZIEde1QeDD"
      },
      "source": [
        "range() позволяет генерировать ряд чисел в рамках заданного диапазона.\n",
        "В зависимости от того, как много аргументов вы передаете в функцию, вы можете решить, где этот ряд чисел начнется и закончится, а также сможете определить шаг последовательности."
      ]
    },
    {
      "cell_type": "markdown",
      "metadata": {
        "id": "lNvezEpOMsNV"
      },
      "source": [
        "Есть три способа вызова range():\n",
        "\n",
        "- range(стоп) берет один аргумент\n",
        "- range(старт, стоп) берет два аргумента\n",
        "- range(старт, стоп, шаг) берет три аргумента"
      ]
    },
    {
      "cell_type": "code",
      "execution_count": null,
      "metadata": {
        "colab": {
          "base_uri": "https://localhost:8080/"
        },
        "id": "U-_X698REeYZ",
        "outputId": "8f95d6b8-b95b-4bc1-b219-8b442fcf437c"
      },
      "outputs": [
        {
          "data": {
            "text/plain": [
              "range(0, 10)"
            ]
          },
          "execution_count": 33,
          "metadata": {},
          "output_type": "execute_result"
        }
      ],
      "source": [
        "range(10)"
      ]
    },
    {
      "cell_type": "code",
      "execution_count": null,
      "metadata": {
        "colab": {
          "base_uri": "https://localhost:8080/"
        },
        "id": "Z96EkFKaEeYZ",
        "outputId": "9ee3341f-3c89-495c-c7f0-51792f351cf8"
      },
      "outputs": [
        {
          "name": "stdout",
          "output_type": "stream",
          "text": [
            "0\n",
            "1\n",
            "2\n",
            "3\n",
            "4\n",
            "5\n",
            "6\n",
            "7\n",
            "8\n",
            "9\n"
          ]
        }
      ],
      "source": [
        "for i in range(10):\n",
        "    print(i)"
      ]
    },
    {
      "cell_type": "code",
      "execution_count": null,
      "metadata": {
        "colab": {
          "base_uri": "https://localhost:8080/"
        },
        "id": "imfdGkRXEeYa",
        "outputId": "2ce2374e-ee1f-4a50-96bf-7c841a63d504"
      },
      "outputs": [
        {
          "name": "stdout",
          "output_type": "stream",
          "text": [
            "3\n",
            "4\n",
            "5\n",
            "6\n",
            "7\n",
            "8\n",
            "9\n",
            "10\n",
            "11\n",
            "12\n",
            "13\n",
            "14\n",
            "15\n",
            "16\n",
            "17\n",
            "18\n",
            "19\n"
          ]
        }
      ],
      "source": [
        "# с указанием левой и правой границы\n",
        "for i in range(3, 20):\n",
        "    print(i)"
      ]
    },
    {
      "cell_type": "code",
      "execution_count": null,
      "metadata": {
        "colab": {
          "base_uri": "https://localhost:8080/"
        },
        "id": "Q5FJVw6iEeYa",
        "outputId": "f6dafecb-1434-4ee1-8620-4caf79080b0a"
      },
      "outputs": [
        {
          "name": "stdout",
          "output_type": "stream",
          "text": [
            "3\n",
            "8\n",
            "13\n",
            "18\n"
          ]
        }
      ],
      "source": [
        "# третий аргумент - шаг\n",
        "for i in range(3, 20, 5):\n",
        "    print(i)"
      ]
    },
    {
      "cell_type": "markdown",
      "metadata": {
        "id": "Bz8pKr5nEeYa"
      },
      "source": [
        "Напишем программу, которая считает сумму квадратов n натуральных чисел.  \n",
        "n запрашиваем у пользователя"
      ]
    },
    {
      "cell_type": "code",
      "execution_count": null,
      "metadata": {
        "colab": {
          "base_uri": "https://localhost:8080/"
        },
        "id": "ln0fLulzEeYa",
        "outputId": "ff34794f-b794-469f-f5d4-f99c501151df"
      },
      "outputs": [
        {
          "name": "stdout",
          "output_type": "stream",
          "text": [
            "Введите число5\n",
            "Сумма на шаге 1: 1\n",
            "Сумма на шаге 2: 5\n",
            "Сумма на шаге 3: 14\n",
            "Сумма на шаге 4: 30\n",
            "Сумма на шаге 5: 55\n",
            "55\n"
          ]
        }
      ],
      "source": [
        "n = int(input('Введите число'))\n",
        "sum_ = 0\n",
        "for num in range(1, n + 1):\n",
        "    sum_ += num ** 2\n",
        "    print(f'Сумма на шаге {num}: {sum_}')\n",
        "print(sum_)"
      ]
    },
    {
      "cell_type": "markdown",
      "metadata": {
        "id": "iJAkazM1EeYb"
      },
      "source": [
        "**Практика**  \n",
        "Напишите программу, которая рассчитаем факториал числа n. n запрашиваем у пользователя"
      ]
    },
    {
      "cell_type": "code",
      "execution_count": null,
      "metadata": {
        "colab": {
          "base_uri": "https://localhost:8080/"
        },
        "id": "ye-ou4hnEeYb",
        "outputId": "2597fe13-07cd-4038-cf76-425bc58f735e"
      },
      "outputs": [
        {
          "name": "stdout",
          "output_type": "stream",
          "text": [
            "Введите число5\n",
            "120\n"
          ]
        }
      ],
      "source": [
        "n = int(input('Введите число'))\n",
        "proz = 1\n",
        "for num in range(1, n + 1):\n",
        "    proz *= num\n",
        "print(proz)"
      ]
    },
    {
      "cell_type": "code",
      "execution_count": null,
      "metadata": {
        "colab": {
          "base_uri": "https://localhost:8080/"
        },
        "id": "Tact4ZqywSdP",
        "outputId": "f1f51ba3-8f34-4c0a-885e-ac86d36f3fff"
      },
      "outputs": [
        {
          "name": "stdout",
          "output_type": "stream",
          "text": [
            "Введите число5\n",
            "120\n"
          ]
        }
      ],
      "source": [
        "n = int(input('Введите число'))\n",
        "\n",
        "for num in range(1, n):\n",
        "    n *= num\n",
        "print(proz)"
      ]
    },
    {
      "cell_type": "markdown",
      "metadata": {
        "id": "nRL8nM6hEeYc"
      },
      "source": [
        "## Функция enumerate"
      ]
    },
    {
      "cell_type": "markdown",
      "metadata": {
        "id": "QMuWrheREeYc"
      },
      "source": [
        "enumerate позволяет получать индекс каждого элемента в объекте"
      ]
    },
    {
      "cell_type": "code",
      "execution_count": null,
      "metadata": {
        "colab": {
          "base_uri": "https://localhost:8080/"
        },
        "id": "iZl9-joHEeYc",
        "outputId": "6e8865b2-74b8-4085-a1b1-d5e757dbc0b4"
      },
      "outputs": [
        {
          "data": {
            "text/plain": [
              "<enumerate at 0x7efc19b66540>"
            ]
          },
          "execution_count": 40,
          "metadata": {},
          "output_type": "execute_result"
        }
      ],
      "source": [
        "enumerate('1,2,3,4,5')"
      ]
    },
    {
      "cell_type": "code",
      "execution_count": null,
      "metadata": {
        "colab": {
          "base_uri": "https://localhost:8080/"
        },
        "id": "G18OpLgqEeYc",
        "outputId": "3f3c13c7-6bbf-411f-9b01-d573c03a2fd8"
      },
      "outputs": [
        {
          "name": "stdout",
          "output_type": "stream",
          "text": [
            "0 1\n",
            "1 ,\n",
            "2 2\n",
            "3 ,\n",
            "4 3\n",
            "5 ,\n",
            "6 4\n",
            "7 ,\n",
            "8 5\n"
          ]
        }
      ],
      "source": [
        "for i, el in enumerate('1,2,3,4,5'):  # в цикле можем сразу перебирать индексы и сами элементы\n",
        "    print(i, el)"
      ]
    },
    {
      "cell_type": "code",
      "execution_count": null,
      "metadata": {
        "colab": {
          "base_uri": "https://localhost:8080/"
        },
        "id": "fjmqpJKxEeYc",
        "outputId": "1e017c15-e40e-441f-8573-202f567f3b88"
      },
      "outputs": [
        {
          "name": "stdout",
          "output_type": "stream",
          "text": [
            "Позиция символа \"S\" - 1\n",
            "Позиция символа \"k\" - 2\n",
            "Позиция символа \"i\" - 3\n",
            "Позиция символа \"l\" - 4\n",
            "Позиция символа \"l\" - 5\n",
            "Позиция символа \"F\" - 6\n",
            "Позиция символа \"a\" - 7\n",
            "Позиция символа \"c\" - 8\n",
            "Позиция символа \"t\" - 9\n",
            "Позиция символа \"o\" - 10\n",
            "Позиция символа \"r\" - 11\n",
            "Позиция символа \"y\" - 12\n"
          ]
        }
      ],
      "source": [
        "company_name = 'SkillFactory'\n",
        "for i, letter in enumerate(company_name):  \n",
        "    print(f'Позиция символа \"{letter}\" - {i+1}')"
      ]
    },
    {
      "cell_type": "markdown",
      "metadata": {
        "id": "YZplGdfcfzpB"
      },
      "source": [
        "\n",
        "Решим задачу с квадратной матрицей при помощи enumerate"
      ]
    },
    {
      "cell_type": "code",
      "execution_count": null,
      "metadata": {
        "id": "mCb2AbBpfzpB"
      },
      "outputs": [],
      "source": [
        "data = [\n",
        "    [13, 25, 23, 34],\n",
        "    [45, 32, 44, 47],\n",
        "    [12, 33, 23, 95],\n",
        "    [13, 53, 34, 35]\n",
        "]"
      ]
    },
    {
      "cell_type": "code",
      "execution_count": null,
      "metadata": {
        "colab": {
          "base_uri": "https://localhost:8080/"
        },
        "id": "yJSE0QijxDXR",
        "outputId": "5e1b120b-4ea8-4836-bc7f-1cdb1dad1675"
      },
      "outputs": [
        {
          "name": "stdout",
          "output_type": "stream",
          "text": [
            "[(0, [13, 25, 23, 34]), (1, [45, 32, 44, 47]), (2, [12, 33, 23, 95]), (3, [13, 53, 34, 35])]\n"
          ]
        }
      ],
      "source": [
        "print(list(enumerate(data)))"
      ]
    },
    {
      "cell_type": "code",
      "execution_count": null,
      "metadata": {
        "colab": {
          "base_uri": "https://localhost:8080/"
        },
        "id": "P0o7KOdX9Q8-",
        "outputId": "dc822628-5b3b-4211-dec7-34c15704c735"
      },
      "outputs": [
        {
          "name": "stdout",
          "output_type": "stream",
          "text": [
            "103\n"
          ]
        }
      ],
      "source": [
        "sum_ = 0\n",
        "for index, row in enumerate(data):\n",
        "    sum_ += row[index]\n",
        "print(sum_)"
      ]
    },
    {
      "cell_type": "markdown",
      "metadata": {
        "id": "aG3CDp4cEeYP"
      },
      "source": [
        "## Цикл while"
      ]
    },
    {
      "cell_type": "markdown",
      "metadata": {
        "id": "gOerjvEAMsJp"
      },
      "source": [
        "Позволяет выполнить одну и ту же последовательность действий, пока проверяемое условие истинно. Как правило, цикл while используется, когда невозможно заранее определить точное значение количества проходов исполнения цикла.\n"
      ]
    },
    {
      "cell_type": "code",
      "execution_count": null,
      "metadata": {
        "colab": {
          "base_uri": "https://localhost:8080/"
        },
        "id": "niZlbfI5MsJt",
        "outputId": "f452f211-1218-45f4-81cd-54cb350c3391",
        "scrolled": false
      },
      "outputs": [
        {
          "name": "stdout",
          "output_type": "stream",
          "text": [
            "Денег осталось:  4\n",
            "Денег осталось:  3\n",
            "Денег осталось:  2\n",
            "Денег осталось:  1\n",
            "Денег осталось:  0\n",
            "Денег больше нет\n"
          ]
        }
      ],
      "source": [
        "money = 5 # создаем переменную money и присваиваем ей значение 5\n",
        "while money > 0: # запускаем цикл (\"пока денег больше нуля\")\n",
        "    money -= 1 # уменьшаем на один переменную money\n",
        "    print('Денег осталось: ', money) # пишем тело цикла: код, который будет исполняться, пока условие истино\n",
        "     \n",
        "print('Денег больше нет') # печатаем сообщение (уже вне цикла)"
      ]
    },
    {
      "cell_type": "code",
      "execution_count": null,
      "metadata": {
        "colab": {
          "base_uri": "https://localhost:8080/"
        },
        "id": "pkcJr-eSEeYR",
        "outputId": "285d308e-c9dd-40ab-e090-41e67c0c601a"
      },
      "outputs": [
        {
          "name": "stdout",
          "output_type": "stream",
          "text": [
            "7 - нечетное число\n",
            "6 - четное число\n",
            "5 - нечетное число\n",
            "4 - четное число\n",
            "3 - нечетное число\n",
            "2 - четное число\n",
            "1 - нечетное число\n"
          ]
        }
      ],
      "source": [
        "x = 7\n",
        "while x != 0:\n",
        "    if x % 2 == 0:\n",
        "        print(x, '- четное число')\n",
        "    else:\n",
        "        print(x, '- нечетное число')\n",
        "    x -= 1"
      ]
    },
    {
      "cell_type": "markdown",
      "metadata": {
        "id": "4qe61Hx5EeYR"
      },
      "source": [
        "А что будет, если мы сделаем так?"
      ]
    },
    {
      "cell_type": "code",
      "execution_count": null,
      "metadata": {
        "id": "NI56bvRXEeYR"
      },
      "outputs": [],
      "source": [
        "x = 7\n",
        "while x != 0:\n",
        "    if x % 2 == 0:\n",
        "        print(x, '- четное число')\n",
        "    else:\n",
        "        print(x, '- нечетное число')"
      ]
    },
    {
      "cell_type": "markdown",
      "metadata": {
        "id": "HMobHtPeEeYS"
      },
      "source": [
        "**Практика**  \n",
        "Напишите программу, которая будет запрашивать целые числа у пользователя до тех пор, пока не будет введен 0. После чего выводится сумма всех введеных ранее чисел"
      ]
    },
    {
      "cell_type": "code",
      "execution_count": null,
      "metadata": {
        "colab": {
          "base_uri": "https://localhost:8080/"
        },
        "id": "-S9HUlhp_TJ9",
        "outputId": "e07871bd-185b-4e69-c3ba-f21db276822b"
      },
      "outputs": [
        {
          "name": "stdout",
          "output_type": "stream",
          "text": [
            "5\n",
            "6\n",
            "4\n",
            "0\n",
            "15\n"
          ]
        }
      ],
      "source": [
        "numb = int(input())\n",
        "list_n = []\n",
        "while numb != 0:\n",
        "  list_n.append(numb)\n",
        "  numb = int(input())\n",
        "print(sum(list_n))"
      ]
    },
    {
      "cell_type": "code",
      "execution_count": null,
      "metadata": {
        "colab": {
          "base_uri": "https://localhost:8080/"
        },
        "id": "tL_SqxRfzmPV",
        "outputId": "8e3fbaa3-dca5-4412-ceef-fbba6667f0fd"
      },
      "outputs": [
        {
          "name": "stdout",
          "output_type": "stream",
          "text": [
            "Введите число5\n",
            "Введите число6\n",
            "Введите число7\n",
            "Введите число0\n",
            "18\n"
          ]
        }
      ],
      "source": [
        "n = int(input('Введите число'))\n",
        "summa = 0\n",
        "while n!= 0:\n",
        "    summa += n\n",
        "    n = int(input('Введите число'))\n",
        "print(summa)"
      ]
    },
    {
      "cell_type": "markdown",
      "metadata": {
        "id": "_RcFSvjhEoWl"
      },
      "source": [
        "Напишем игру \"Камень-ножницы-бумага\""
      ]
    },
    {
      "cell_type": "code",
      "execution_count": null,
      "metadata": {
        "colab": {
          "base_uri": "https://localhost:8080/"
        },
        "id": "wELJ8IGkACcw",
        "outputId": "9498d683-b82f-48c1-b8ce-18196480f253"
      },
      "outputs": [
        {
          "name": "stdout",
          "output_type": "stream",
          "text": [
            "Ваш вариантp\n",
            "Компьютер выбрал: r\n",
            "Игрок победил! Бумага закрывает камень!\n",
            "Счет:  1 : 0\n",
            "Ваш вариантp\n",
            "Компьютер выбрал: r\n",
            "Игрок победил! Бумага закрывает камень!\n",
            "Счет:  2 : 0\n",
            "Ваш вариантp\n",
            "Компьютер выбрал: s\n",
            "Компьютер победил! Ножницы режут бумагу!\n",
            "Счет:  2 : 1\n",
            "Ваш вариантp\n",
            "Компьютер выбрал: r\n",
            "Игрок победил! Бумага закрывает камень!\n",
            "Счет:  3 : 1\n",
            "В игре победил игрок\n"
          ]
        }
      ],
      "source": [
        "import random\n",
        "\n",
        "player_wins = 0\n",
        "computer_wins = 0\n",
        "\n",
        "while player_wins < 3 and computer_wins < 3:\n",
        "    \n",
        "    user = input('Ваш вариант')\n",
        "    computer = random.choice(['r', 's', 'p'])\n",
        "    \n",
        "    print('Компьютер выбрал:', computer)     \n",
        "    \n",
        "    if user == computer:\n",
        "        print('Ничья')\n",
        "        \n",
        "    elif user == 'r':\n",
        "        if computer == 's':\n",
        "            print('Игрок победил! Камень ломает ножницы!')\n",
        "            player_wins += 1\n",
        "        else:\n",
        "            print('Компьютер победил! Бумага закрывает камень!')\n",
        "            computer_wins += 1\n",
        "            \n",
        "    elif user == 'p':\n",
        "        if computer == 's':\n",
        "            print('Компьютер победил! Ножницы режут бумагу!')\n",
        "            computer_wins += 1\n",
        "        else:\n",
        "            print('Игрок победил! Бумага закрывает камень!')\n",
        "            player_wins += 1\n",
        "            \n",
        "    elif user == 's':\n",
        "        if computer == 'p':\n",
        "            print('Игрок победил! Ножницы режут бумагу!')\n",
        "            player_wins += 1\n",
        "        else:\n",
        "            print('Компьютер победил! Камень ломает ножницы!')\n",
        "            computer_wins += 1\n",
        "            \n",
        "    print('Счет: ', player_wins, ':', computer_wins)\n",
        "\n",
        "    \n",
        "if player_wins > computer_wins:\n",
        "    print('В игре победил игрок')\n",
        "else:\n",
        "    print('В игре победил компьютер')"
      ]
    },
    {
      "cell_type": "markdown",
      "metadata": {
        "id": "7aMMFJfPEeYV"
      },
      "source": [
        "## Операторы break и continue\n",
        "break – прерывает исполнение цикла  \n",
        "continue – прерывает только текущую итерацию и сразу переходит к следующей  \n",
        "Работают и с **while**, и с **for**"
      ]
    },
    {
      "cell_type": "code",
      "execution_count": null,
      "metadata": {
        "id": "cZ6fnaCREeYW"
      },
      "outputs": [],
      "source": [
        "phrase = '640Кб должно хватить для любых задач. Билл Гейтс (по легенде)'"
      ]
    },
    {
      "cell_type": "code",
      "execution_count": null,
      "metadata": {
        "colab": {
          "base_uri": "https://localhost:8080/"
        },
        "id": "cN40gvIvEeYW",
        "outputId": "f702e904-fa8c-41b7-8d31-7637f7a2cdf2"
      },
      "outputs": [
        {
          "name": "stdout",
          "output_type": "stream",
          "text": [
            "640Кб"
          ]
        }
      ],
      "source": [
        "for letter in phrase:\n",
        "    if letter == ' ':\n",
        "        break\n",
        "    print(letter, end='')"
      ]
    },
    {
      "cell_type": "code",
      "execution_count": null,
      "metadata": {
        "colab": {
          "base_uri": "https://localhost:8080/"
        },
        "id": "aZ2Qg_r7EeYW",
        "outputId": "c3099f4b-eea8-4a6d-da01-83eedf1283af"
      },
      "outputs": [
        {
          "name": "stdout",
          "output_type": "stream",
          "text": [
            "640Кбдолжнохватитьдлялюбыхзадач.БиллГейтс(полегенде)"
          ]
        }
      ],
      "source": [
        "for letter in phrase:\n",
        "    if letter == ' ':\n",
        "        continue\n",
        "    print(letter, end='')"
      ]
    },
    {
      "cell_type": "markdown",
      "metadata": {
        "id": "E6ywQi0G5-o1"
      },
      "source": [
        "## else и циклы"
      ]
    },
    {
      "cell_type": "markdown",
      "metadata": {
        "id": "rrt2CXpIxlJz"
      },
      "source": [
        "Напишем игру \"Угадай число\""
      ]
    },
    {
      "cell_type": "code",
      "execution_count": null,
      "metadata": {
        "colab": {
          "base_uri": "https://localhost:8080/"
        },
        "id": "8oU2aES0g53U",
        "outputId": "f63aa3d0-d62b-4e76-f514-be30f02c0fed"
      },
      "outputs": [
        {
          "name": "stdout",
          "output_type": "stream",
          "text": [
            "7\n",
            "Назови свой вариант50\n",
            "Загаданное число меньше\n",
            "Назови свой вариант25\n",
            "Загаданное число меньше\n",
            "Назови свой вариант7\n",
            "Вы победили!\n"
          ]
        }
      ],
      "source": [
        "number = random.randint(1, 100)\n",
        "print(number)\n",
        "max_tries = 3\n",
        "tries = 0\n",
        "\n",
        "while tries < max_tries:\n",
        "    guess = int(input('Назови свой вариант'))\n",
        "    if guess < number:\n",
        "        print('Загаданное число больше')\n",
        "    elif guess > number:\n",
        "        print('Загаданное число меньше')\n",
        "    else:\n",
        "        print('Вы победили!')\n",
        "        break\n",
        "    tries += 1\n",
        "else: \n",
        "    print('Вы проиграли')\n",
        "    print('Было загадано число:', number)"
      ]
    },
    {
      "cell_type": "markdown",
      "metadata": {
        "id": "9wAk7cHLI3lD"
      },
      "source": [
        "Напишем программу для проверки логина и пароля\n",
        "\n",
        "1) логин и пароль пользователя хранится в переменной\n",
        "\n",
        "2) будем давать пользователю k попыток на ввод логина и пароля\n",
        "\n",
        "3) если после трех попыток вверного ввода не было, то заблокируем вход - вывести на экран сообщение \"Вход заблокирован\"\n",
        "\n",
        "4) если пароль и логин были введены верно, то вывести на экран сообщение \"Добро пожаловать!\""
      ]
    },
    {
      "cell_type": "code",
      "execution_count": null,
      "metadata": {
        "colab": {
          "base_uri": "https://localhost:8080/"
        },
        "id": "Qbi4rQ1SI3lD",
        "outputId": "a1b0e81e-526a-4721-edff-59404ffababd"
      },
      "outputs": [
        {
          "name": "stdout",
          "output_type": "stream",
          "text": [
            "Ввелите логинerhehr\n",
            "Введите пароль34y\n",
            "Осталось 2 попытки\n",
            "Ввелите логинadmin\n",
            "Введите пароль3y\n",
            "Осталось 1 попытки\n",
            "Ввелите логинwriogiorwh\n",
            "Введите парольadmin\n",
            "Осталось 0 попытки\n",
            "Вход заблокирован\n"
          ]
        }
      ],
      "source": [
        "login_correct = 'admin'\n",
        "pswd_correct = 'admin'\n",
        "k = 3\n",
        "for i in range(k):\n",
        "    login = input('Ввелите логин')\n",
        "    pswd = input('Введите пароль')\n",
        "    if login != login_correct or pswd != pswd_correct:\n",
        "        k -= 1\n",
        "        print(f'Осталось {k} попытки')\n",
        "    else:\n",
        "        print('Добро пожаловать!')\n",
        "        break\n",
        "else:\n",
        "    print('Вход заблокирован')"
      ]
    },
    {
      "cell_type": "markdown",
      "metadata": {
        "id": "UBfqWckSEeYd"
      },
      "source": [
        "## Вложенные циклы\n",
        "\n",
        "Вас не должно смущать, что циклы могут находится внутри других циклов. Все элементы языка можно комбинировать друг с другом, как захотим"
      ]
    },
    {
      "cell_type": "markdown",
      "metadata": {
        "id": "pJUjBZvGfzpU"
      },
      "source": [
        "Выведем фамилии построчно с указанием профессии в формате:\n",
        "\n",
        "```\n",
        "IT:  \n",
        "Гейтс  \n",
        "Джобс  \n",
        "Возняк  \n",
        "\n",
        "Физика:  \n",
        "Эйнштейн  \n",
        "Фейнман  \n",
        "```"
      ]
    },
    {
      "cell_type": "code",
      "execution_count": null,
      "metadata": {
        "id": "z_vxMDG4fzpU"
      },
      "outputs": [],
      "source": [
        "professions = ['IT', 'Физика', 'Математика']\n",
        "persons = [['Гейтс', 'Джобс', 'Возняк'], ['Эйнштейн', 'Фейнман'], ['Эвклид', 'Ньютон']]"
      ]
    },
    {
      "cell_type": "code",
      "execution_count": null,
      "metadata": {
        "colab": {
          "base_uri": "https://localhost:8080/"
        },
        "id": "2WdcaKvC27g8",
        "outputId": "0edb38e0-c470-46a1-af28-429de3354110"
      },
      "outputs": [
        {
          "data": {
            "text/plain": [
              "[(1, 3), (2, 2), (3, 1)]"
            ]
          },
          "execution_count": 62,
          "metadata": {},
          "output_type": "execute_result"
        }
      ],
      "source": [
        "list(zip([1, 2, 3, 6], (3, 2, 1)))"
      ]
    },
    {
      "cell_type": "code",
      "execution_count": null,
      "metadata": {
        "colab": {
          "base_uri": "https://localhost:8080/"
        },
        "id": "6AKgupAk3pyq",
        "outputId": "15bffc40-c687-474e-f041-678aaae66ed7"
      },
      "outputs": [
        {
          "name": "stdout",
          "output_type": "stream",
          "text": [
            "('IT', ['Гейтс', 'Джобс', 'Возняк'])\n",
            "('Физика', ['Эйнштейн', 'Фейнман'])\n",
            "('Математика', ['Эвклид', 'Ньютон'])\n"
          ]
        }
      ],
      "source": [
        "for names in zip(professions, persons):\n",
        "    print(names)"
      ]
    },
    {
      "cell_type": "code",
      "execution_count": null,
      "metadata": {
        "colab": {
          "base_uri": "https://localhost:8080/"
        },
        "id": "F1SypBEBfzpU",
        "outputId": "47fd9177-eb1b-4ca0-b828-d87d99190582"
      },
      "outputs": [
        {
          "name": "stdout",
          "output_type": "stream",
          "text": [
            "IT:\n",
            "Гейтс\n",
            "Джобс\n",
            "Возняк\n",
            "\n",
            "Физика:\n",
            "Эйнштейн\n",
            "Фейнман\n",
            "\n",
            "Математика:\n",
            "Эвклид\n",
            "Ньютон\n",
            "\n"
          ]
        }
      ],
      "source": [
        "for pro, person_list in zip(professions, persons):\n",
        "    print(f'{pro}:')\n",
        "    for person in person_list:\n",
        "        print(person)\n",
        "    print()"
      ]
    },
    {
      "cell_type": "code",
      "execution_count": null,
      "metadata": {
        "colab": {
          "base_uri": "https://localhost:8080/"
        },
        "id": "wFjyyvhKzMYE",
        "outputId": "317ae56f-a4a3-4110-cbea-eae6c1ce444c"
      },
      "outputs": [
        {
          "name": "stdout",
          "output_type": "stream",
          "text": [
            "IT:\n",
            "Гейтс\n",
            "Джобс\n",
            "Возняк\n",
            "\n",
            "Физика:\n",
            "Эйнштейн\n",
            "Фейнман\n",
            "\n",
            "Математика:\n",
            "Эвклид\n",
            "Ньютон\n",
            "\n"
          ]
        }
      ],
      "source": [
        "for pro, person_list in zip(professions, persons):\n",
        "    print(f'{pro}:')\n",
        "    print('\\n'.join(person_list))\n",
        "    print()"
      ]
    },
    {
      "cell_type": "markdown",
      "metadata": {
        "id": "ceNE2LFpEeYf"
      },
      "source": [
        "Напишем программу, которая выведет на экран таблицу умножения (Таблица Пифагора)"
      ]
    },
    {
      "cell_type": "code",
      "execution_count": null,
      "metadata": {
        "colab": {
          "base_uri": "https://localhost:8080/"
        },
        "id": "7U4WCKDFEeYf",
        "outputId": "61baf624-3900-43cd-e4ed-f3be21f4c549",
        "scrolled": true
      },
      "outputs": [
        {
          "name": "stdout",
          "output_type": "stream",
          "text": [
            "1\t2\t3\t4\t5\t6\t7\t8\t9\t\n",
            "2\t4\t6\t8\t10\t12\t14\t16\t18\t\n",
            "3\t6\t9\t12\t15\t18\t21\t24\t27\t\n",
            "4\t8\t12\t16\t20\t24\t28\t32\t36\t\n",
            "5\t10\t15\t20\t25\t30\t35\t40\t45\t\n",
            "6\t12\t18\t24\t30\t36\t42\t48\t54\t\n",
            "7\t14\t21\t28\t35\t42\t49\t56\t63\t\n",
            "8\t16\t24\t32\t40\t48\t56\t64\t72\t\n",
            "9\t18\t27\t36\t45\t54\t63\t72\t81\t\n"
          ]
        }
      ],
      "source": [
        "for row in range(1, 10):\n",
        "    for col in range(1, 10):\n",
        "        print(row * col, end='\\t')\n",
        "    print()"
      ]
    },
    {
      "cell_type": "code",
      "execution_count": null,
      "metadata": {
        "colab": {
          "base_uri": "https://localhost:8080/"
        },
        "id": "aTOWbEgf5EIr",
        "outputId": "079ca43e-ee19-4645-8a10-6e615ebc55e7"
      },
      "outputs": [
        {
          "name": "stdout",
          "output_type": "stream",
          "text": [
            "Help on built-in function print in module builtins:\n",
            "\n",
            "print(...)\n",
            "    print(value, ..., sep=' ', end='\\n', file=sys.stdout, flush=False)\n",
            "    \n",
            "    Prints the values to a stream, or to sys.stdout by default.\n",
            "    Optional keyword arguments:\n",
            "    file:  a file-like object (stream); defaults to the current sys.stdout.\n",
            "    sep:   string inserted between values, default a space.\n",
            "    end:   string appended after the last value, default a newline.\n",
            "    flush: whether to forcibly flush the stream.\n",
            "\n"
          ]
        }
      ],
      "source": [
        "help(print)"
      ]
    },
    {
      "cell_type": "markdown",
      "metadata": {
        "id": "z1qLRsaafzpJ"
      },
      "source": [
        "Проблема изменения длины объекта во время итерации по нему\n",
        "\n",
        "Дан список с визитами по городам и странам.  Напишем код, который возвращает отфильтрованный список geo_logs, содержащий только визиты из России.\n"
      ]
    },
    {
      "cell_type": "code",
      "execution_count": null,
      "metadata": {
        "id": "QIDUEySefzpK"
      },
      "outputs": [],
      "source": [
        "geo_logs = [\n",
        "    {'visit1': ['Москва', 'Россия']},\n",
        "    {'visit2': ['Дели', 'Индия']},\n",
        "    {'visit3': ['Владимир', 'Россия']},\n",
        "    {'visit4': ['Лиссабон', 'Португалия']},\n",
        "    {'visit5': ['Париж', 'Франция']},\n",
        "    {'visit6': ['Тула', 'Россия']},\n",
        "    {'visit7': ['Курск', 'Россия']},\n",
        "    {'visit8': ['Архангельск', 'Россия']}\n",
        "]"
      ]
    },
    {
      "cell_type": "code",
      "execution_count": null,
      "metadata": {
        "colab": {
          "base_uri": "https://localhost:8080/"
        },
        "id": "uOyzYHPufzpL",
        "outputId": "151f7e01-c0e6-4420-e29b-c53d5133dac3"
      },
      "outputs": [
        {
          "name": "stdout",
          "output_type": "stream",
          "text": [
            "[{'visit1': ['Москва', 'Россия']}, {'visit3': ['Владимир', 'Россия']}, {'visit5': ['Париж', 'Франция']}, {'visit6': ['Тула', 'Россия']}, {'visit7': ['Курск', 'Россия']}, {'visit8': ['Архангельск', 'Россия']}]\n"
          ]
        }
      ],
      "source": [
        "for log in geo_logs:\n",
        "    for el in log.values():\n",
        "        if 'Россия' not in el:\n",
        "            geo_logs.remove(log)\n",
        "\n",
        "print(geo_logs)"
      ]
    },
    {
      "cell_type": "code",
      "execution_count": null,
      "metadata": {
        "colab": {
          "base_uri": "https://localhost:8080/"
        },
        "id": "MWQbIJGW6i4F",
        "outputId": "ab13c0fe-d33c-494d-dd53-6fbd399fc6db"
      },
      "outputs": [
        {
          "data": {
            "text/plain": [
              "[{'visit1': ['Москва', 'Россия']},\n",
              " {'visit3': ['Владимир', 'Россия']},\n",
              " {'visit6': ['Тула', 'Россия']},\n",
              " {'visit7': ['Курск', 'Россия']},\n",
              " {'visit8': ['Архангельск', 'Россия']}]"
            ]
          },
          "execution_count": 80,
          "metadata": {},
          "output_type": "execute_result"
        }
      ],
      "source": [
        "res = []\n",
        "\n",
        "for log in geo_logs:\n",
        "    # print(list(log.values())[0])\n",
        "    if 'Россия' in list(log.values())[0]:\n",
        "        res.append(log)\n",
        "\n",
        "res"
      ]
    },
    {
      "cell_type": "markdown",
      "metadata": {
        "id": "HrCwjJziO_3t"
      },
      "source": [
        "Имеется структура данных cook_book, в которой хранится информация об ингредиентах блюд и их количестве в расчете на одну порцию.\n",
        "\n",
        "Необходимо вывести пользователю список покупок необходимого количества ингредиентов для приготовления блюд на определенное число персон в следующем виде:\n",
        "```\n",
        "Салат:\n",
        "картофель, 500гр.\n",
        "морковь, 250гр.\n",
        "огурцы, 250гр.\n",
        "горошек, 150гр.\n",
        "майонез, 350мл.\n",
        "\n",
        "Пицца:\n",
        "сыр, 250гр.\n",
        "томаты, 250гр.\n",
        "тесто, 500гр.\n",
        "бекон, 150гр.\n",
        "колбаса, 150гр.\n",
        "грибы, 100гр.\n",
        "\n",
        "Фруктовый десерт:\n",
        "хурма, 300гр.\n",
        "киви, 300гр.\n",
        "творог, 300гр.\n",
        "сахар, 50гр.\n",
        "мед, 250мл.\n",
        "```"
      ]
    },
    {
      "cell_type": "code",
      "execution_count": null,
      "metadata": {
        "id": "89Kjy1rpC4Ul"
      },
      "outputs": [],
      "source": [
        "cook_book = [\n",
        "  ['салат',\n",
        "      [\n",
        "        ['картофель', 100, 'гр.'],\n",
        "        ['морковь', 50, 'гр.'],\n",
        "        ['огурцы', 50, 'гр.'],\n",
        "        ['горошек', 30, 'гр.'],\n",
        "        ['майонез', 70, 'мл.'],\n",
        "      ]\n",
        "  ],\n",
        "  ['пицца',  \n",
        "      [\n",
        "        ['сыр', 50, 'гр.'],\n",
        "        ['томаты', 50, 'гр.'],\n",
        "        ['тесто', 100, 'гр.'],\n",
        "        ['бекон', 30, 'гр.'],\n",
        "        ['колбаса', 30, 'гр.'],\n",
        "        ['грибы', 20, 'гр.'],\n",
        "      ],\n",
        "  ],\n",
        "  ['фруктовый десерт',\n",
        "      [\n",
        "        ['хурма', 60, 'гр.'],\n",
        "        ['киви', 60, 'гр.'],\n",
        "        ['творог', 60, 'гр.'],\n",
        "        ['сахар', 10, 'гр.'],\n",
        "        ['мед', 50, 'мл.'],  \n",
        "      ]\n",
        "  ]\n",
        "]\n",
        "\n",
        "person = 5"
      ]
    },
    {
      "cell_type": "code",
      "execution_count": null,
      "metadata": {
        "colab": {
          "base_uri": "https://localhost:8080/"
        },
        "id": "r6iB5dWoPGgV",
        "outputId": "8a242d95-df98-424f-9a21-46882ad6892d"
      },
      "outputs": [
        {
          "name": "stdout",
          "output_type": "stream",
          "text": [
            "Салат:\n",
            "картофель, 500 гр.\n",
            "морковь, 250 гр.\n",
            "огурцы, 250 гр.\n",
            "горошек, 150 гр.\n",
            "майонез, 350 мл.\n",
            "\n",
            "Пицца:\n",
            "сыр, 250 гр.\n",
            "томаты, 250 гр.\n",
            "тесто, 500 гр.\n",
            "бекон, 150 гр.\n",
            "колбаса, 150 гр.\n",
            "грибы, 100 гр.\n",
            "\n",
            "Фруктовый десерт:\n",
            "хурма, 300 гр.\n",
            "киви, 300 гр.\n",
            "творог, 300 гр.\n",
            "сахар, 50 гр.\n",
            "мед, 250 мл.\n",
            "\n"
          ]
        }
      ],
      "source": [
        "for dish, ingrs in cook_book:\n",
        "    print(f'{dish.capitalize()}:')\n",
        "    for name, q, measure in ingrs:\n",
        "        print(f'{name}, {q*person} {measure}')\n",
        "    print()"
      ]
    },
    {
      "cell_type": "code",
      "execution_count": null,
      "metadata": {
        "id": "V4WAsXT6RZ3m"
      },
      "outputs": [],
      "source": []
    },
    {
      "cell_type": "markdown",
      "metadata": {
        "id": "8n1tSQLIOsED"
      },
      "source": [
        "Дана книга рецептов с информацией о том, сколько ингредиентов нужно для приготовления блюда в расчете на одну порцию (пример данных представлен ниже).\n",
        "Напишите программу, которая будет запрашивать у пользователя количество порций для приготовления этих блюд и отображать информацию о суммарном количестве требуемых ингредиентов в указанном виде:\n",
        "\n",
        "```\n",
        "Сыр: 210 гр  \n",
        "Томаты: 6 шт  \n",
        "Огурцы: 60 гр  \n",
        "Маслины: 30 гр  \n",
        "Оливковое масло: 60 мл  \n",
        "Салат: 30 гр  \n",
        "Перец: 60 гр  \n",
        "Колбаса: 90 гр  \n",
        "Бекон: 90 гр  \n",
        "Оливки: 30 гр  \n",
        "Томаты: 60 гр  \n",
        "Тесто: 300 гр  \n",
        "Лимон: 3 шт  \n",
        "Вода: 600 мл  \n",
        "Сахар: 30 гр  \n",
        "Лайм: 60 гр\n",
        "```\n",
        "Внимание! Одинаковые ингредиенты с разными размерностями нужно считать раздельно!"
      ]
    },
    {
      "cell_type": "code",
      "execution_count": null,
      "metadata": {
        "id": "1eWc6XmyDGd_"
      },
      "outputs": [],
      "source": [
        "cook_book = {\n",
        "  'салат': [\n",
        "     {'ingredient_name': 'сыр', 'quantity': 50, 'measure': 'гр'},\n",
        "     {'ingredient_name': 'томаты', 'quantity': 2, 'measure': 'шт'},\n",
        "     {'ingredient_name': 'огурцы', 'quantity': 20, 'measure': 'гр'},\n",
        "     {'ingredient_name': 'маслины', 'quantity': 10, 'measure': 'гр'},\n",
        "     {'ingredient_name': 'оливковое масло', 'quantity': 20, 'measure': 'мл'},\n",
        "     {'ingredient_name': 'салат', 'quantity': 10, 'measure': 'гр'},\n",
        "     {'ingredient_name': 'перец', 'quantity': 20, 'measure': 'гр'}\n",
        "    ],\n",
        "  'пицца': [\n",
        "     {'ingredient_name': 'сыр', 'quantity': 20, 'measure': 'гр'},\n",
        "     {'ingredient_name': 'колбаса', 'quantity': 30, 'measure': 'гр'},\n",
        "     {'ingredient_name': 'бекон', 'quantity': 30, 'measure': 'гр'},\n",
        "     {'ingredient_name': 'оливки', 'quantity': 10, 'measure': 'гр'},\n",
        "     {'ingredient_name': 'томаты', 'quantity': 20, 'measure': 'гр'},\n",
        "     {'ingredient_name': 'тесто', 'quantity': 100, 'measure': 'гр'},   \n",
        "    ],\n",
        "  'лимонад': [\n",
        "     {'ingredient_name': 'лимон', 'quantity': 1, 'measure': 'шт'},\n",
        "     {'ingredient_name': 'вода', 'quantity': 200, 'measure': 'мл'},\n",
        "     {'ingredient_name': 'сахар', 'quantity': 10, 'measure': 'гр'},\n",
        "     {'ingredient_name': 'лайм', 'quantity': 20, 'measure': 'гр'},    \n",
        "    ]\n",
        "}"
      ]
    },
    {
      "cell_type": "code",
      "execution_count": null,
      "metadata": {
        "colab": {
          "base_uri": "https://localhost:8080/"
        },
        "id": "Ia5Rn6WO8dxK",
        "outputId": "8f5eec9c-a1b4-4fe8-bc11-0f805c7f081a"
      },
      "outputs": [
        {
          "name": "stdout",
          "output_type": "stream",
          "text": [
            "сыр: 350 гр\n",
            "томаты: 10 шт\n",
            "огурцы: 100 гр\n",
            "маслины: 50 гр\n",
            "оливковое масло: 100 мл\n",
            "салат: 50 гр\n",
            "перец: 100 гр\n",
            "колбаса: 150 гр\n",
            "бекон: 150 гр\n",
            "оливки: 50 гр\n",
            "томаты: 100 гр\n",
            "тесто: 500 гр\n",
            "лимон: 5 шт\n",
            "вода: 1000 мл\n",
            "сахар: 50 гр\n",
            "лайм: 100 гр\n"
          ]
        }
      ],
      "source": [
        "shop_dict = {}\n",
        "\n",
        "for dish in cook_book.values():\n",
        "    for ingr in dish:\n",
        "        key = (ingr['ingredient_name'], ingr['measure'])\n",
        "        shop_dict.setdefault(key, 0)\n",
        "        shop_dict[key] += ingr['quantity'] * person\n",
        "\n",
        "for name, q in shop_dict.items():\n",
        "    print(f'{name[0]}: {q} {name[1]}')"
      ]
    },
    {
      "cell_type": "markdown",
      "metadata": {
        "id": "3omF1jBXizPT"
      },
      "source": [
        "https://docs.google.com/forms/d/e/1FAIpQLSdRkwtTmNUag2Gf6ZiPXYZ_JHbHK2QXLpUHHVOPUCJq-59UXw/viewform"
      ]
    }
  ],
  "metadata": {
    "colab": {
      "provenance": []
    },
    "kernelspec": {
      "display_name": "Python 3",
      "language": "python",
      "name": "python3"
    },
    "language_info": {
      "codemirror_mode": {
        "name": "ipython",
        "version": 3
      },
      "file_extension": ".py",
      "mimetype": "text/x-python",
      "name": "python",
      "nbconvert_exporter": "python",
      "pygments_lexer": "ipython3",
      "version": "3.8.5"
    }
  },
  "nbformat": 4,
  "nbformat_minor": 0
}
